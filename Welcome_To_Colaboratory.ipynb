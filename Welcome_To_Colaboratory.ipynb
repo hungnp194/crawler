{
  "cells": [
    {
      "cell_type": "markdown",
      "metadata": {
        "id": "view-in-github",
        "colab_type": "text"
      },
      "source": [
        "<a href=\"https://colab.research.google.com/github/hungnp194/crawler/blob/main/Welcome_To_Colaboratory.ipynb\" target=\"_parent\"><img src=\"https://colab.research.google.com/assets/colab-badge.svg\" alt=\"Open In Colab\"/></a>"
      ]
    },
    {
      "cell_type": "code",
      "source": [
        "!pip install nest_asyncio\n",
        "!pip install pytest-playwright"
      ],
      "metadata": {
        "id": "uvxA_VyskubB"
      },
      "execution_count": null,
      "outputs": []
    },
    {
      "cell_type": "code",
      "source": [
        "!playwright install"
      ],
      "metadata": {
        "id": "6mAQM9NJk1ia"
      },
      "execution_count": null,
      "outputs": []
    },
    {
      "cell_type": "code",
      "source": [
        "import nest_asyncio\n",
        "\n",
        "nest_asyncio.apply()\n",
        "import asyncio\n",
        "from playwright.async_api import async_playwright\n",
        "\n",
        "\n",
        "async def main(completed='completed'):\n",
        "    async with async_playwright() as p:\n",
        "        browser = await p.chromium.launch(headless=True)\n",
        "        page = await browser.new_page()\n",
        "        pageLinks = {}\n",
        "        await page.goto('https://playwright.dev/python/docs/writing-tests')\n",
        "        links = await page.evaluate('() => Array.from(window.document.querySelectorAll(\"a\")).map(a => a.href)')\n",
        "        for link in links:\n",
        "            if link not in pageLinks and link.startswith('https://playwright.dev'):\n",
        "                pageLinks[link] = 'pending'\n",
        "        while 'pending' in pageLinks.copy().values():\n",
        "            for key, value in pageLinks.copy().items():\n",
        "                if value == 'pending':\n",
        "                    await page.goto(key)\n",
        "                    print(key)\n",
        "                    pageLinks[key] = completed\n",
        "                    links = await page.evaluate(\n",
        "                        '() => Array.from(window.document.querySelectorAll(\"a\")).map(a => a.href)')\n",
        "                    for link in links:\n",
        "                        if link not in pageLinks and link.startswith('https://playwright.dev'):\n",
        "                            pageLinks[link] = 'pending'\n",
        "\n",
        "        print(pageLinks.keys())\n",
        "\n",
        "        await browser.close()\n",
        "\n",
        "\n",
        "asyncio.run(main())\n"
      ],
      "metadata": {
        "id": "l8Q0TGHyjmiu"
      },
      "execution_count": null,
      "outputs": []
    }
  ],
  "metadata": {
    "colab": {
      "name": "Welcome To Colaboratory",
      "toc_visible": true,
      "provenance": [],
      "include_colab_link": true
    },
    "kernelspec": {
      "display_name": "Python 3",
      "name": "python3"
    }
  },
  "nbformat": 4,
  "nbformat_minor": 0
}