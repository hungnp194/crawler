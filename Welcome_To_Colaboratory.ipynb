{
  "cells": [
    {
      "cell_type": "markdown",
      "metadata": {
        "id": "view-in-github",
        "colab_type": "text"
      },
      "source": [
        "<a href=\"https://colab.research.google.com/github/hungnp194/crawler/blob/main/Welcome_To_Colaboratory.ipynb\" target=\"_parent\"><img src=\"https://colab.research.google.com/assets/colab-badge.svg\" alt=\"Open In Colab\"/></a>"
      ]
    },
    {
      "cell_type": "code",
      "source": [
        "!pip install nest_asyncio\n",
        "!pip install pytest-playwright"
      ],
      "metadata": {
        "id": "uvxA_VyskubB",
        "outputId": "17eab69a-ca97-4bcf-a9d2-e8ae2eb896f1",
        "colab": {
          "base_uri": "https://localhost:8080/"
        }
      },
      "execution_count": 6,
      "outputs": [
        {
          "output_type": "stream",
          "name": "stdout",
          "text": [
            "Looking in indexes: https://pypi.org/simple, https://us-python.pkg.dev/colab-wheels/public/simple/\n",
            "Collecting nest_asyncio\n",
            "  Downloading nest_asyncio-1.5.6-py3-none-any.whl (5.2 kB)\n",
            "Installing collected packages: nest_asyncio\n",
            "Successfully installed nest_asyncio-1.5.6\n",
            "Looking in indexes: https://pypi.org/simple, https://us-python.pkg.dev/colab-wheels/public/simple/\n",
            "Requirement already satisfied: pytest-playwright in /usr/local/lib/python3.9/dist-packages (0.3.2)\n",
            "Requirement already satisfied: playwright>=1.18 in /usr/local/lib/python3.9/dist-packages (from pytest-playwright) (1.31.1)\n",
            "Requirement already satisfied: python-slugify<7.0.0,>=6.0.0 in /usr/local/lib/python3.9/dist-packages (from pytest-playwright) (6.1.2)\n",
            "Requirement already satisfied: pytest-base-url<3.0.0,>=1.0.0 in /usr/local/lib/python3.9/dist-packages (from pytest-playwright) (2.0.0)\n",
            "Requirement already satisfied: pytest<8.0.0,>=6.2.4 in /usr/local/lib/python3.9/dist-packages (from pytest-playwright) (7.2.2)\n",
            "Requirement already satisfied: greenlet==2.0.1 in /usr/local/lib/python3.9/dist-packages (from playwright>=1.18->pytest-playwright) (2.0.1)\n",
            "Requirement already satisfied: pyee==9.0.4 in /usr/local/lib/python3.9/dist-packages (from playwright>=1.18->pytest-playwright) (9.0.4)\n",
            "Requirement already satisfied: typing-extensions in /usr/local/lib/python3.9/dist-packages (from pyee==9.0.4->playwright>=1.18->pytest-playwright) (4.5.0)\n",
            "Requirement already satisfied: iniconfig in /usr/local/lib/python3.9/dist-packages (from pytest<8.0.0,>=6.2.4->pytest-playwright) (2.0.0)\n",
            "Requirement already satisfied: packaging in /usr/local/lib/python3.9/dist-packages (from pytest<8.0.0,>=6.2.4->pytest-playwright) (23.0)\n",
            "Requirement already satisfied: attrs>=19.2.0 in /usr/local/lib/python3.9/dist-packages (from pytest<8.0.0,>=6.2.4->pytest-playwright) (22.2.0)\n",
            "Requirement already satisfied: pluggy<2.0,>=0.12 in /usr/local/lib/python3.9/dist-packages (from pytest<8.0.0,>=6.2.4->pytest-playwright) (1.0.0)\n",
            "Requirement already satisfied: tomli>=1.0.0 in /usr/local/lib/python3.9/dist-packages (from pytest<8.0.0,>=6.2.4->pytest-playwright) (2.0.1)\n",
            "Requirement already satisfied: exceptiongroup>=1.0.0rc8 in /usr/local/lib/python3.9/dist-packages (from pytest<8.0.0,>=6.2.4->pytest-playwright) (1.1.0)\n",
            "Requirement already satisfied: requests>=2.9 in /usr/local/lib/python3.9/dist-packages (from pytest-base-url<3.0.0,>=1.0.0->pytest-playwright) (2.25.1)\n",
            "Requirement already satisfied: text-unidecode>=1.3 in /usr/local/lib/python3.9/dist-packages (from python-slugify<7.0.0,>=6.0.0->pytest-playwright) (1.3)\n",
            "Requirement already satisfied: idna<3,>=2.5 in /usr/local/lib/python3.9/dist-packages (from requests>=2.9->pytest-base-url<3.0.0,>=1.0.0->pytest-playwright) (2.10)\n",
            "Requirement already satisfied: chardet<5,>=3.0.2 in /usr/local/lib/python3.9/dist-packages (from requests>=2.9->pytest-base-url<3.0.0,>=1.0.0->pytest-playwright) (4.0.0)\n",
            "Requirement already satisfied: certifi>=2017.4.17 in /usr/local/lib/python3.9/dist-packages (from requests>=2.9->pytest-base-url<3.0.0,>=1.0.0->pytest-playwright) (2022.12.7)\n",
            "Requirement already satisfied: urllib3<1.27,>=1.21.1 in /usr/local/lib/python3.9/dist-packages (from requests>=2.9->pytest-base-url<3.0.0,>=1.0.0->pytest-playwright) (1.26.14)\n"
          ]
        }
      ]
    },
    {
      "cell_type": "code",
      "source": [
        "!playwright install"
      ],
      "metadata": {
        "id": "6mAQM9NJk1ia",
        "outputId": "65c61fcf-0657-412c-f0eb-e1e88438a2de",
        "colab": {
          "base_uri": "https://localhost:8080/"
        }
      },
      "execution_count": 4,
      "outputs": [
        {
          "output_type": "stream",
          "name": "stdout",
          "text": [
            "Downloading Chromium 111.0.5563.19 (playwright build v1048)\u001b[2m from https://playwright.azureedge.net/builds/chromium/1048/chromium-linux.zip\u001b[22m\n",
            "\u001b[1G143.7 Mb [] 0% 0.0s\u001b[0K\u001b[1G143.7 Mb [] 0% 4.5s\u001b[0K\u001b[1G143.7 Mb [] 1% 2.5s\u001b[0K\u001b[1G143.7 Mb [] 2% 2.1s\u001b[0K\u001b[1G143.7 Mb [] 2% 2.2s\u001b[0K\u001b[1G143.7 Mb [] 3% 2.1s\u001b[0K\u001b[1G143.7 Mb [] 4% 2.1s\u001b[0K\u001b[1G143.7 Mb [] 5% 1.8s\u001b[0K\u001b[1G143.7 Mb [] 7% 1.7s\u001b[0K\u001b[1G143.7 Mb [] 8% 1.6s\u001b[0K\u001b[1G143.7 Mb [] 8% 1.7s\u001b[0K\u001b[1G143.7 Mb [] 10% 1.6s\u001b[0K\u001b[1G143.7 Mb [] 11% 1.5s\u001b[0K\u001b[1G143.7 Mb [] 12% 1.4s\u001b[0K\u001b[1G143.7 Mb [] 14% 1.4s\u001b[0K\u001b[1G143.7 Mb [] 15% 1.3s\u001b[0K\u001b[1G143.7 Mb [] 16% 1.3s\u001b[0K\u001b[1G143.7 Mb [] 18% 1.2s\u001b[0K\u001b[1G143.7 Mb [] 19% 1.2s\u001b[0K\u001b[1G143.7 Mb [] 21% 1.1s\u001b[0K\u001b[1G143.7 Mb [] 22% 1.1s\u001b[0K\u001b[1G143.7 Mb [] 23% 1.1s\u001b[0K\u001b[1G143.7 Mb [] 24% 1.1s\u001b[0K\u001b[1G143.7 Mb [] 25% 1.1s\u001b[0K\u001b[1G143.7 Mb [] 26% 1.1s\u001b[0K\u001b[1G143.7 Mb [] 28% 1.0s\u001b[0K\u001b[1G143.7 Mb [] 29% 1.0s\u001b[0K\u001b[1G143.7 Mb [] 30% 1.0s\u001b[0K\u001b[1G143.7 Mb [] 32% 1.0s\u001b[0K\u001b[1G143.7 Mb [] 33% 1.0s\u001b[0K\u001b[1G143.7 Mb [] 34% 0.9s\u001b[0K\u001b[1G143.7 Mb [] 35% 0.9s\u001b[0K\u001b[1G143.7 Mb [] 37% 0.9s\u001b[0K\u001b[1G143.7 Mb [] 39% 0.8s\u001b[0K\u001b[1G143.7 Mb [] 40% 0.8s\u001b[0K\u001b[1G143.7 Mb [] 42% 0.8s\u001b[0K\u001b[1G143.7 Mb [] 43% 0.8s\u001b[0K\u001b[1G143.7 Mb [] 45% 0.7s\u001b[0K\u001b[1G143.7 Mb [] 47% 0.7s\u001b[0K\u001b[1G143.7 Mb [] 49% 0.7s\u001b[0K\u001b[1G143.7 Mb [] 51% 0.6s\u001b[0K\u001b[1G143.7 Mb [] 52% 0.6s\u001b[0K\u001b[1G143.7 Mb [] 53% 0.6s\u001b[0K\u001b[1G143.7 Mb [] 55% 0.6s\u001b[0K\u001b[1G143.7 Mb [] 57% 0.5s\u001b[0K\u001b[1G143.7 Mb [] 59% 0.5s\u001b[0K\u001b[1G143.7 Mb [] 61% 0.5s\u001b[0K\u001b[1G143.7 Mb [] 62% 0.5s\u001b[0K\u001b[1G143.7 Mb [] 64% 0.4s\u001b[0K\u001b[1G143.7 Mb [] 66% 0.4s\u001b[0K\u001b[1G143.7 Mb [] 67% 0.4s\u001b[0K\u001b[1G143.7 Mb [] 69% 0.4s\u001b[0K\u001b[1G143.7 Mb [] 70% 0.4s\u001b[0K\u001b[1G143.7 Mb [] 72% 0.3s\u001b[0K\u001b[1G143.7 Mb [] 73% 0.3s\u001b[0K\u001b[1G143.7 Mb [] 74% 0.3s\u001b[0K\u001b[1G143.7 Mb [] 75% 0.3s\u001b[0K\u001b[1G143.7 Mb [] 76% 0.3s\u001b[0K\u001b[1G143.7 Mb [] 77% 0.3s\u001b[0K\u001b[1G143.7 Mb [] 79% 0.3s\u001b[0K\u001b[1G143.7 Mb [] 80% 0.3s\u001b[0K\u001b[1G143.7 Mb [] 81% 0.2s\u001b[0K\u001b[1G143.7 Mb [] 83% 0.2s\u001b[0K\u001b[1G143.7 Mb [] 85% 0.2s\u001b[0K\u001b[1G143.7 Mb [] 86% 0.2s\u001b[0K\u001b[1G143.7 Mb [] 88% 0.1s\u001b[0K\u001b[1G143.7 Mb [] 90% 0.1s\u001b[0K\u001b[1G143.7 Mb [] 92% 0.1s\u001b[0K\u001b[1G143.7 Mb [] 93% 0.1s\u001b[0K\u001b[1G143.7 Mb [] 94% 0.1s\u001b[0K\u001b[1G143.7 Mb [] 95% 0.1s\u001b[0K\u001b[1G143.7 Mb [] 97% 0.0s\u001b[0K\u001b[1G143.7 Mb [] 99% 0.0s\u001b[0K\u001b[1G143.7 Mb [] 100% 0.0s\u001b[0K\n",
            "Chromium 111.0.5563.19 (playwright build v1048) downloaded to /root/.cache/ms-playwright/chromium-1048\n",
            "Downloading FFMPEG playwright build v1008\u001b[2m from https://playwright.azureedge.net/builds/ffmpeg/1008/ffmpeg-linux.zip\u001b[22m\n",
            "\u001b[1G2.6 Mb [] 0% 0.0s\u001b[0K\u001b[1G2.6 Mb [] 17% 0.1s\u001b[0K\u001b[1G2.6 Mb [] 36% 0.1s\u001b[0K\u001b[1G2.6 Mb [] 76% 0.0s\u001b[0K\u001b[1G2.6 Mb [] 100% 0.0s\u001b[0K\n",
            "FFMPEG playwright build v1008 downloaded to /root/.cache/ms-playwright/ffmpeg-1008\n",
            "Downloading Firefox 109.0 (playwright build v1378)\u001b[2m from https://playwright.azureedge.net/builds/firefox/1378/firefox-ubuntu-20.04.zip\u001b[22m\n",
            "\u001b[1G78.3 Mb [] 0% 0.0s\u001b[0K\u001b[1G78.3 Mb [] 0% 3.5s\u001b[0K\u001b[1G78.3 Mb [] 1% 1.9s\u001b[0K\u001b[1G78.3 Mb [] 3% 1.5s\u001b[0K\u001b[1G78.3 Mb [] 4% 1.4s\u001b[0K\u001b[1G78.3 Mb [] 5% 1.4s\u001b[0K\u001b[1G78.3 Mb [] 6% 1.4s\u001b[0K\u001b[1G78.3 Mb [] 7% 1.4s\u001b[0K\u001b[1G78.3 Mb [] 8% 1.4s\u001b[0K\u001b[1G78.3 Mb [] 9% 1.4s\u001b[0K\u001b[1G78.3 Mb [] 10% 1.4s\u001b[0K\u001b[1G78.3 Mb [] 13% 1.2s\u001b[0K\u001b[1G78.3 Mb [] 14% 1.2s\u001b[0K\u001b[1G78.3 Mb [] 16% 1.1s\u001b[0K\u001b[1G78.3 Mb [] 17% 1.1s\u001b[0K\u001b[1G78.3 Mb [] 19% 1.1s\u001b[0K\u001b[1G78.3 Mb [] 20% 1.0s\u001b[0K\u001b[1G78.3 Mb [] 22% 1.0s\u001b[0K\u001b[1G78.3 Mb [] 24% 0.9s\u001b[0K\u001b[1G78.3 Mb [] 25% 0.9s\u001b[0K\u001b[1G78.3 Mb [] 28% 0.9s\u001b[0K\u001b[1G78.3 Mb [] 30% 0.8s\u001b[0K\u001b[1G78.3 Mb [] 32% 0.8s\u001b[0K\u001b[1G78.3 Mb [] 34% 0.7s\u001b[0K\u001b[1G78.3 Mb [] 37% 0.7s\u001b[0K\u001b[1G78.3 Mb [] 39% 0.6s\u001b[0K\u001b[1G78.3 Mb [] 41% 0.6s\u001b[0K\u001b[1G78.3 Mb [] 44% 0.6s\u001b[0K\u001b[1G78.3 Mb [] 46% 0.5s\u001b[0K\u001b[1G78.3 Mb [] 47% 0.5s\u001b[0K\u001b[1G78.3 Mb [] 50% 0.5s\u001b[0K\u001b[1G78.3 Mb [] 52% 0.5s\u001b[0K\u001b[1G78.3 Mb [] 53% 0.5s\u001b[0K\u001b[1G78.3 Mb [] 55% 0.4s\u001b[0K\u001b[1G78.3 Mb [] 58% 0.4s\u001b[0K\u001b[1G78.3 Mb [] 60% 0.4s\u001b[0K\u001b[1G78.3 Mb [] 62% 0.4s\u001b[0K\u001b[1G78.3 Mb [] 63% 0.4s\u001b[0K\u001b[1G78.3 Mb [] 64% 0.4s\u001b[0K\u001b[1G78.3 Mb [] 67% 0.3s\u001b[0K\u001b[1G78.3 Mb [] 69% 0.3s\u001b[0K\u001b[1G78.3 Mb [] 71% 0.3s\u001b[0K\u001b[1G78.3 Mb [] 73% 0.3s\u001b[0K\u001b[1G78.3 Mb [] 75% 0.2s\u001b[0K\u001b[1G78.3 Mb [] 76% 0.2s\u001b[0K\u001b[1G78.3 Mb [] 78% 0.2s\u001b[0K\u001b[1G78.3 Mb [] 80% 0.2s\u001b[0K\u001b[1G78.3 Mb [] 83% 0.2s\u001b[0K\u001b[1G78.3 Mb [] 86% 0.1s\u001b[0K\u001b[1G78.3 Mb [] 89% 0.1s\u001b[0K\u001b[1G78.3 Mb [] 91% 0.1s\u001b[0K\u001b[1G78.3 Mb [] 94% 0.0s\u001b[0K\u001b[1G78.3 Mb [] 97% 0.0s\u001b[0K\u001b[1G78.3 Mb [] 100% 0.0s\u001b[0K\n",
            "Firefox 109.0 (playwright build v1378) downloaded to /root/.cache/ms-playwright/firefox-1378\n",
            "Downloading Webkit 16.4 (playwright build v1792)\u001b[2m from https://playwright.azureedge.net/builds/webkit/1792/webkit-ubuntu-20.04.zip\u001b[22m\n",
            "\u001b[1G90.3 Mb [] 0% 0.0s\u001b[0K\u001b[1G90.3 Mb [] 0% 3.4s\u001b[0K\u001b[1G90.3 Mb [] 1% 1.7s\u001b[0K\u001b[1G90.3 Mb [] 3% 1.3s\u001b[0K\u001b[1G90.3 Mb [] 4% 1.3s\u001b[0K\u001b[1G90.3 Mb [] 5% 1.3s\u001b[0K\u001b[1G90.3 Mb [] 7% 1.3s\u001b[0K\u001b[1G90.3 Mb [] 8% 1.2s\u001b[0K\u001b[1G90.3 Mb [] 11% 1.1s\u001b[0K\u001b[1G90.3 Mb [] 13% 1.0s\u001b[0K\u001b[1G90.3 Mb [] 15% 0.9s\u001b[0K\u001b[1G90.3 Mb [] 17% 0.8s\u001b[0K\u001b[1G90.3 Mb [] 20% 0.8s\u001b[0K\u001b[1G90.3 Mb [] 22% 0.8s\u001b[0K\u001b[1G90.3 Mb [] 23% 0.8s\u001b[0K\u001b[1G90.3 Mb [] 24% 0.8s\u001b[0K\u001b[1G90.3 Mb [] 25% 0.8s\u001b[0K\u001b[1G90.3 Mb [] 27% 0.8s\u001b[0K\u001b[1G90.3 Mb [] 28% 0.8s\u001b[0K\u001b[1G90.3 Mb [] 30% 0.7s\u001b[0K\u001b[1G90.3 Mb [] 33% 0.7s\u001b[0K\u001b[1G90.3 Mb [] 35% 0.7s\u001b[0K\u001b[1G90.3 Mb [] 37% 0.6s\u001b[0K\u001b[1G90.3 Mb [] 38% 0.6s\u001b[0K\u001b[1G90.3 Mb [] 41% 0.6s\u001b[0K\u001b[1G90.3 Mb [] 43% 0.5s\u001b[0K\u001b[1G90.3 Mb [] 44% 0.6s\u001b[0K\u001b[1G90.3 Mb [] 46% 0.5s\u001b[0K\u001b[1G90.3 Mb [] 49% 0.5s\u001b[0K\u001b[1G90.3 Mb [] 52% 0.4s\u001b[0K\u001b[1G90.3 Mb [] 54% 0.4s\u001b[0K\u001b[1G90.3 Mb [] 56% 0.4s\u001b[0K\u001b[1G90.3 Mb [] 58% 0.4s\u001b[0K\u001b[1G90.3 Mb [] 60% 0.4s\u001b[0K\u001b[1G90.3 Mb [] 62% 0.3s\u001b[0K\u001b[1G90.3 Mb [] 64% 0.3s\u001b[0K\u001b[1G90.3 Mb [] 67% 0.3s\u001b[0K\u001b[1G90.3 Mb [] 69% 0.3s\u001b[0K\u001b[1G90.3 Mb [] 72% 0.2s\u001b[0K\u001b[1G90.3 Mb [] 75% 0.2s\u001b[0K\u001b[1G90.3 Mb [] 77% 0.2s\u001b[0K\u001b[1G90.3 Mb [] 79% 0.2s\u001b[0K\u001b[1G90.3 Mb [] 80% 0.2s\u001b[0K\u001b[1G90.3 Mb [] 82% 0.1s\u001b[0K\u001b[1G90.3 Mb [] 85% 0.1s\u001b[0K\u001b[1G90.3 Mb [] 87% 0.1s\u001b[0K\u001b[1G90.3 Mb [] 90% 0.1s\u001b[0K\u001b[1G90.3 Mb [] 92% 0.1s\u001b[0K\u001b[1G90.3 Mb [] 95% 0.0s\u001b[0K\u001b[1G90.3 Mb [] 97% 0.0s\u001b[0K\u001b[1G90.3 Mb [] 100% 0.0s\u001b[0K\n",
            "Webkit 16.4 (playwright build v1792) downloaded to /root/.cache/ms-playwright/webkit-1792\n"
          ]
        }
      ]
    },
    {
      "cell_type": "code",
      "source": [
        "import nest_asyncio\n",
        "\n",
        "nest_asyncio.apply()\n",
        "import asyncio\n",
        "from playwright.async_api import async_playwright\n",
        "\n",
        "\n",
        "async def main(completed='completed'):\n",
        "    async with async_playwright() as p:\n",
        "        browser = await p.chromium.launch(headless=True)\n",
        "        page = await browser.new_page()\n",
        "        pageLinks = {}\n",
        "        await page.goto('https://playwright.dev/python/docs/writing-tests')\n",
        "        links = await page.evaluate('() => Array.from(window.document.querySelectorAll(\"a\")).map(a => a.href)')\n",
        "        for link in links:\n",
        "            if link not in pageLinks and link.startswith('https://playwright.dev'):\n",
        "                pageLinks[link] = 'pending'\n",
        "        while 'pending' in pageLinks.copy().values():\n",
        "            for key, value in pageLinks.copy().items():\n",
        "                if value == 'pending':\n",
        "                    await page.goto(key)\n",
        "                    print(key)\n",
        "                    pageLinks[key] = completed\n",
        "                    links = await page.evaluate(\n",
        "                        '() => Array.from(window.document.querySelectorAll(\"a\")).map(a => a.href)')\n",
        "                    for link in links:\n",
        "                        if link not in pageLinks and link.startswith('https://playwright.dev'):\n",
        "                            pageLinks[link] = 'pending'\n",
        "\n",
        "        print(pageLinks.keys())\n",
        "\n",
        "        await browser.close()\n",
        "\n",
        "\n",
        "asyncio.run(main())\n"
      ],
      "metadata": {
        "id": "l8Q0TGHyjmiu",
        "outputId": "e266ebb6-aad3-4743-d22a-79860e6f6e92",
        "colab": {
          "base_uri": "https://localhost:8080/",
          "height": 571
        }
      },
      "execution_count": 10,
      "outputs": [
        {
          "output_type": "stream",
          "name": "stdout",
          "text": [
            "https://playwright.dev/python/docs/writing-tests#docusaurus_skipToContent_fallback\n",
            "https://playwright.dev/python/\n",
            "https://playwright.dev/python/docs/intro\n",
            "https://playwright.dev/python/docs/api/class-playwright\n",
            "https://playwright.dev/python/docs/writing-tests#\n",
            "https://playwright.dev/python/docs/writing-tests\n",
            "https://playwright.dev/docs/writing-tests\n",
            "https://playwright.dev/java/docs/writing-tests\n",
            "https://playwright.dev/dotnet/docs/writing-tests\n",
            "https://playwright.dev/python/community/welcome\n",
            "https://playwright.dev/python/docs/running-tests\n",
            "https://playwright.dev/python/docs/codegen-intro\n",
            "https://playwright.dev/python/docs/trace-viewer-intro\n"
          ]
        },
        {
          "output_type": "error",
          "ename": "KeyboardInterrupt",
          "evalue": "ignored",
          "traceback": [
            "\u001b[0;31m---------------------------------------------------------------------------\u001b[0m",
            "\u001b[0;31mKeyboardInterrupt\u001b[0m                         Traceback (most recent call last)",
            "\u001b[0;32m<ipython-input-10-9627d5f43598>\u001b[0m in \u001b[0;36m<module>\u001b[0;34m\u001b[0m\n\u001b[1;32m     33\u001b[0m \u001b[0;34m\u001b[0m\u001b[0m\n\u001b[1;32m     34\u001b[0m \u001b[0;34m\u001b[0m\u001b[0m\n\u001b[0;32m---> 35\u001b[0;31m \u001b[0masyncio\u001b[0m\u001b[0;34m.\u001b[0m\u001b[0mrun\u001b[0m\u001b[0;34m(\u001b[0m\u001b[0mmain\u001b[0m\u001b[0;34m(\u001b[0m\u001b[0;34m)\u001b[0m\u001b[0;34m)\u001b[0m\u001b[0;34m\u001b[0m\u001b[0;34m\u001b[0m\u001b[0m\n\u001b[0m",
            "\u001b[0;32m/usr/local/lib/python3.9/dist-packages/nest_asyncio.py\u001b[0m in \u001b[0;36mrun\u001b[0;34m(main, debug)\u001b[0m\n\u001b[1;32m     33\u001b[0m         \u001b[0mtask\u001b[0m \u001b[0;34m=\u001b[0m \u001b[0masyncio\u001b[0m\u001b[0;34m.\u001b[0m\u001b[0mensure_future\u001b[0m\u001b[0;34m(\u001b[0m\u001b[0mmain\u001b[0m\u001b[0;34m)\u001b[0m\u001b[0;34m\u001b[0m\u001b[0;34m\u001b[0m\u001b[0m\n\u001b[1;32m     34\u001b[0m         \u001b[0;32mtry\u001b[0m\u001b[0;34m:\u001b[0m\u001b[0;34m\u001b[0m\u001b[0;34m\u001b[0m\u001b[0m\n\u001b[0;32m---> 35\u001b[0;31m             \u001b[0;32mreturn\u001b[0m \u001b[0mloop\u001b[0m\u001b[0;34m.\u001b[0m\u001b[0mrun_until_complete\u001b[0m\u001b[0;34m(\u001b[0m\u001b[0mtask\u001b[0m\u001b[0;34m)\u001b[0m\u001b[0;34m\u001b[0m\u001b[0;34m\u001b[0m\u001b[0m\n\u001b[0m\u001b[1;32m     36\u001b[0m         \u001b[0;32mfinally\u001b[0m\u001b[0;34m:\u001b[0m\u001b[0;34m\u001b[0m\u001b[0;34m\u001b[0m\u001b[0m\n\u001b[1;32m     37\u001b[0m             \u001b[0;32mif\u001b[0m \u001b[0;32mnot\u001b[0m \u001b[0mtask\u001b[0m\u001b[0;34m.\u001b[0m\u001b[0mdone\u001b[0m\u001b[0;34m(\u001b[0m\u001b[0;34m)\u001b[0m\u001b[0;34m:\u001b[0m\u001b[0;34m\u001b[0m\u001b[0;34m\u001b[0m\u001b[0m\n",
            "\u001b[0;32m/usr/local/lib/python3.9/dist-packages/nest_asyncio.py\u001b[0m in \u001b[0;36mrun_until_complete\u001b[0;34m(self, future)\u001b[0m\n\u001b[1;32m     82\u001b[0m                 \u001b[0mf\u001b[0m\u001b[0;34m.\u001b[0m\u001b[0m_log_destroy_pending\u001b[0m \u001b[0;34m=\u001b[0m \u001b[0;32mFalse\u001b[0m\u001b[0;34m\u001b[0m\u001b[0;34m\u001b[0m\u001b[0m\n\u001b[1;32m     83\u001b[0m             \u001b[0;32mwhile\u001b[0m \u001b[0;32mnot\u001b[0m \u001b[0mf\u001b[0m\u001b[0;34m.\u001b[0m\u001b[0mdone\u001b[0m\u001b[0;34m(\u001b[0m\u001b[0;34m)\u001b[0m\u001b[0;34m:\u001b[0m\u001b[0;34m\u001b[0m\u001b[0;34m\u001b[0m\u001b[0m\n\u001b[0;32m---> 84\u001b[0;31m                 \u001b[0mself\u001b[0m\u001b[0;34m.\u001b[0m\u001b[0m_run_once\u001b[0m\u001b[0;34m(\u001b[0m\u001b[0;34m)\u001b[0m\u001b[0;34m\u001b[0m\u001b[0;34m\u001b[0m\u001b[0m\n\u001b[0m\u001b[1;32m     85\u001b[0m                 \u001b[0;32mif\u001b[0m \u001b[0mself\u001b[0m\u001b[0;34m.\u001b[0m\u001b[0m_stopping\u001b[0m\u001b[0;34m:\u001b[0m\u001b[0;34m\u001b[0m\u001b[0;34m\u001b[0m\u001b[0m\n\u001b[1;32m     86\u001b[0m                     \u001b[0;32mbreak\u001b[0m\u001b[0;34m\u001b[0m\u001b[0;34m\u001b[0m\u001b[0m\n",
            "\u001b[0;32m/usr/local/lib/python3.9/dist-packages/nest_asyncio.py\u001b[0m in \u001b[0;36m_run_once\u001b[0;34m(self)\u001b[0m\n\u001b[1;32m    105\u001b[0m                 scheduled[0]._when - self.time(), 0), 86400) if scheduled\n\u001b[1;32m    106\u001b[0m             else None)\n\u001b[0;32m--> 107\u001b[0;31m         \u001b[0mevent_list\u001b[0m \u001b[0;34m=\u001b[0m \u001b[0mself\u001b[0m\u001b[0;34m.\u001b[0m\u001b[0m_selector\u001b[0m\u001b[0;34m.\u001b[0m\u001b[0mselect\u001b[0m\u001b[0;34m(\u001b[0m\u001b[0mtimeout\u001b[0m\u001b[0;34m)\u001b[0m\u001b[0;34m\u001b[0m\u001b[0;34m\u001b[0m\u001b[0m\n\u001b[0m\u001b[1;32m    108\u001b[0m         \u001b[0mself\u001b[0m\u001b[0;34m.\u001b[0m\u001b[0m_process_events\u001b[0m\u001b[0;34m(\u001b[0m\u001b[0mevent_list\u001b[0m\u001b[0;34m)\u001b[0m\u001b[0;34m\u001b[0m\u001b[0;34m\u001b[0m\u001b[0m\n\u001b[1;32m    109\u001b[0m \u001b[0;34m\u001b[0m\u001b[0m\n",
            "\u001b[0;32m/usr/lib/python3.9/selectors.py\u001b[0m in \u001b[0;36mselect\u001b[0;34m(self, timeout)\u001b[0m\n\u001b[1;32m    467\u001b[0m             \u001b[0mready\u001b[0m \u001b[0;34m=\u001b[0m \u001b[0;34m[\u001b[0m\u001b[0;34m]\u001b[0m\u001b[0;34m\u001b[0m\u001b[0;34m\u001b[0m\u001b[0m\n\u001b[1;32m    468\u001b[0m             \u001b[0;32mtry\u001b[0m\u001b[0;34m:\u001b[0m\u001b[0;34m\u001b[0m\u001b[0;34m\u001b[0m\u001b[0m\n\u001b[0;32m--> 469\u001b[0;31m                 \u001b[0mfd_event_list\u001b[0m \u001b[0;34m=\u001b[0m \u001b[0mself\u001b[0m\u001b[0;34m.\u001b[0m\u001b[0m_selector\u001b[0m\u001b[0;34m.\u001b[0m\u001b[0mpoll\u001b[0m\u001b[0;34m(\u001b[0m\u001b[0mtimeout\u001b[0m\u001b[0;34m,\u001b[0m \u001b[0mmax_ev\u001b[0m\u001b[0;34m)\u001b[0m\u001b[0;34m\u001b[0m\u001b[0;34m\u001b[0m\u001b[0m\n\u001b[0m\u001b[1;32m    470\u001b[0m             \u001b[0;32mexcept\u001b[0m \u001b[0mInterruptedError\u001b[0m\u001b[0;34m:\u001b[0m\u001b[0;34m\u001b[0m\u001b[0;34m\u001b[0m\u001b[0m\n\u001b[1;32m    471\u001b[0m                 \u001b[0;32mreturn\u001b[0m \u001b[0mready\u001b[0m\u001b[0;34m\u001b[0m\u001b[0;34m\u001b[0m\u001b[0m\n",
            "\u001b[0;31mKeyboardInterrupt\u001b[0m: "
          ]
        }
      ]
    }
  ],
  "metadata": {
    "colab": {
      "name": "Welcome To Colaboratory",
      "toc_visible": true,
      "provenance": [],
      "include_colab_link": true
    },
    "kernelspec": {
      "display_name": "Python 3",
      "name": "python3"
    }
  },
  "nbformat": 4,
  "nbformat_minor": 0
}